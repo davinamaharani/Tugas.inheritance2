{
  "nbformat": 4,
  "nbformat_minor": 0,
  "metadata": {
    "colab": {
      "provenance": [],
      "include_colab_link": true
    },
    "kernelspec": {
      "name": "python3",
      "display_name": "Python 3"
    },
    "language_info": {
      "name": "python"
    }
  },
  "cells": [
    {
      "cell_type": "markdown",
      "metadata": {
        "id": "view-in-github",
        "colab_type": "text"
      },
      "source": [
        "<a href=\"https://colab.research.google.com/github/davinamaharani/Tugas.inheritance2/blob/main/Copy_of_Tugas_Manipulasi_String.ipynb\" target=\"_parent\"><img src=\"https://colab.research.google.com/assets/colab-badge.svg\" alt=\"Open In Colab\"/></a>"
      ]
    },
    {
      "cell_type": "markdown",
      "source": [
        "buatlah class Catatan dengan atribut\n",
        "1. nama (string)\n",
        "2. nomor_absen (intejer)\n",
        "3. catatan (string)\n",
        "\n",
        "buat fungsi untuk\n",
        "1. menggabungkan semua atribut diatas menjadi sebuah kalimat menggunakan pertambahan string\n",
        "2. menampilkan kalimat gabungan semua atribut\n",
        "3. mencari kata dalam sebuah kalimat menggunakan fungsi in\n",
        "4. menggandakan jumlah kalimat menggunakan tanda perkalian *\n",
        "5. menghitung jumlah huruf dalam kalimat menggunakan len\n",
        "6. mencari kata pertama dalam kalimat menggunakan startswith"
      ],
      "metadata": {
        "id": "AIkziXKoHrlK"
      }
    },
    {
      "cell_type": "code",
      "source": [
        "#desain class\n",
        "class Catatan:\n",
        "  def __init__(self,nama,nomor_absen,catatan):\n",
        "    self.nama = nama\n",
        "    self.nomor_absen = nomor_absen\n",
        "    self.catatan = catatan\n",
        "\n",
        "  def gabung(self):\n",
        "    nama = str(self.nama)\n",
        "    absen = str(self.nomor_absen)\n",
        "    catatan = str(self.catatan)\n",
        "\n",
        "    gabungan = (nama +' '+ absen +' '+ catatan)\n",
        "    return gabungan\n",
        "\n",
        "  def tampil(self):\n",
        "    print(self.gabung())\n",
        "\n",
        "  def cari(self):\n",
        "    print('SMKN9MALANG' in self.gabung())\n",
        "\n",
        "  def duplikasi(self):\n",
        "    print(self.gabung()* 3)\n",
        "\n",
        "  def jumlah(self):\n",
        "    print(len(self.gabung()))\n",
        "\n",
        "  def kataawal(self):\n",
        "    awal = 'Siswa'\n",
        "\n",
        "    print(self.gabung().startswith(awal))"
      ],
      "metadata": {
        "id": "_YQuLGp_IA93"
      },
      "execution_count": 8,
      "outputs": []
    },
    {
      "cell_type": "code",
      "source": [
        "#main program\n",
        "siswa1 = Catatan(\"Siswa Davina\",6,\"saya sekolah di SMKN9MALANG\")\n",
        "siswa2 = Catatan(\"Sherliya\",28,\"saya sekolah di SMKN9MALANG\")\n",
        "\n",
        "siswa1.gabung()\n",
        "siswa1.tampil()\n",
        "siswa1.cari()\n",
        "siswa1.duplikasi()\n",
        "siswa1.jumlah()\n",
        "siswa1.kataawal()\n",
        "print('')\n",
        "siswa2.gabung()\n",
        "siswa2.tampil()\n",
        "siswa2.cari()\n",
        "siswa2.duplikasi()\n",
        "siswa2.jumlah()\n",
        "siswa2.kataawal()"
      ],
      "metadata": {
        "id": "QdIPVcTJID9Q",
        "colab": {
          "base_uri": "https://localhost:8080/"
        },
        "outputId": "6b7d4d40-a2fa-457d-c5ec-00adb5fb94ed"
      },
      "execution_count": 13,
      "outputs": [
        {
          "output_type": "stream",
          "name": "stdout",
          "text": [
            "Siswa Davina 6 saya sekolah di SMKN9MALANG\n",
            "True\n",
            "Siswa Davina 6 saya sekolah di SMKN9MALANGSiswa Davina 6 saya sekolah di SMKN9MALANGSiswa Davina 6 saya sekolah di SMKN9MALANG\n",
            "42\n",
            "True\n",
            "\n",
            "Sherliya 28 saya sekolah di SMKN9MALANG\n",
            "True\n",
            "Sherliya 28 saya sekolah di SMKN9MALANGSherliya 28 saya sekolah di SMKN9MALANGSherliya 28 saya sekolah di SMKN9MALANG\n",
            "39\n",
            "False\n"
          ]
        }
      ]
    }
  ]
}